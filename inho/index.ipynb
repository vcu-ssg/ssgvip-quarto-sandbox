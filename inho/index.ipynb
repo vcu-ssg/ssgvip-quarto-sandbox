{
  "cells": [
    {
      "cell_type": "raw",
      "metadata": {},
      "source": [
        "---\n",
        "title: \"$presentation-h1-font-size\"\n",
        "subtitle: VCU Slide created using RevealJS\n",
        "author: Theme Designed by Inho Park\n",
        "date: 04/01/2023\n",
        "---"
      ],
      "id": "3bc9b3e4"
    },
    {
      "cell_type": "markdown",
      "metadata": {},
      "source": [
        "# $presentation-h1-font-size\n",
        "\n",
        "## $presentation-h2-font-size \n"
      ],
      "id": "2cc49500"
    },
    {
      "cell_type": "markdown",
      "metadata": {},
      "source": [
        "- Turn off alarm\n",
        "- Get out of bed\n",
        "\n",
        "## Going to sleep\n",
        "\n",
        "Lorem ipsum dolor sit amet, consectetur adipiscing elit. Ut malesuada id metus at pharetra. Pellentesque tempus, magna sed mattis aliquet, lacus augue tempus libero, gravida lobortis sem nulla blandit urna. Duis in elementum odio. Suspendisse potenti. Fusce non nibh a justo molestie gravida at finibus leo. Sed vulputate libero a orci hendrerit ornare. Sed vestibulum tempus diam, et congue dolor gravida a. Duis risus felis, consequat ut aliquet non, mollis et risus.Lorem ipsum dolor sit amet, consectetur adipiscing elit. Ut malesuada id metus at pharetra. Pellentesque tempus, magna sed mattis aliquet, lacus augue tempus libero, gravida lobortis sem nulla blandit urna. Duis in elementum odio. Suspendisse potenti. Fusce non nibh a justo molestie gravida at finibus leo. Sed vulputate libero a orci hendrerit ornare. Sed vestibulum tempus diam, et congue dolor gravida a. Duis risus felis, consequat ut aliquet non, mollis et risus.\n",
        "\n",
        "Lorem ipsum dolor sit amet, consectetur adipiscing elit. Ut malesuada id metus at pharetra. Pellentesque tempus, magna sed mattis aliquet, lacus augue tempus libero, gravida lobortis sem nulla blandit urna. Duis in elementum odio. Suspendisse potenti. Fusce non nibh a justo molestie gravida at finibus leo. Sed vulputate libero a orci hendrerit ornare. Sed vestibulum tempus diam, et congue dolor gravida a. Duis risus felis, consequat ut aliquet non, mollis et risus.Lorem ipsum dolor sit amet, consectetur adipiscing elit. Ut malesuada id metus at pharetra. Pellentesque tempus, magna sed mattis aliquet, lacus augue tempus libero, gravida lobortis sem nulla blandit urna. Duis in elementum odio. Suspendisse potenti. Fusce non nibh a justo molestie gravida at finibus leo. Sed vulputate libero a orci hendrerit ornare. Sed vestibulum tempus diam, et congue dolor gravida a. Duis risus felis, consequat ut aliquet non, mollis et risus.\n",
        "\n",
        "Lorem ipsum dolor sit amet, consectetur adipiscing elit. Ut malesuada id metus at pharetra. Pellentesque tempus, magna sed mattis aliquet, lacus augue tempus libero, gravida lobortis sem nulla blandit urna. Duis in elementum odio. Suspendisse potenti. Fusce non nibh a justo molestie gravida at finibus leo. Sed vulputate libero a orci hendrerit ornare. Sed vestibulum tempus diam, et congue dolor gravida a. Duis risus felis, consequat ut aliquet non, mollis et risus.Lorem ipsum dolor sit amet, consectetur adipiscing elit. Ut malesuada id metus at pharetra. Pellentesque tempus, magna sed mattis aliquet, lacus augue tempus libero, gravida lobortis sem nulla blandit urna. Duis in elementum odio. Suspendisse potenti. Fusce non nibh a justo molestie gravida at finibus leo. Sed vulputate libero a orci hendrerit ornare. Sed vestibulum tempus diam, et congue dolor gravida a. Duis risus felis, consequat ut aliquet non, mollis et risus.\n",
        "\n",
        "# Section 2 {.mysection }\n",
        "\n",
        "## Element Matching {auto-animate=true auto-animate-easing=\"ease-in-out\"}\n",
        "\n",
        "::: {.r-hstack}\n",
        "::: {data-id=\"box1\" auto-animate-delay=\"0\" style=\"background: #2780e3; width: 200px; height: 150px; margin: 10px;\"}\n",
        "A\n",
        ":::\n",
        "\n",
        "::: {data-id=\"box2\" auto-animate-delay=\"0.1\" style=\"background: #3fb618; width: 200px; height: 150px; margin: 10px;\"}\n",
        "B\n",
        ":::\n",
        "\n",
        "::: {data-id=\"box3\" auto-animate-delay=\"0.2\" style=\"background: #e83e8c; width: 200px; height: 150px; margin: 10px;\"}\n",
        "C\n",
        ":::\n",
        ":::\n",
        "\n",
        "## Element Matching {auto-animate=true auto-animate-easing=\"ease-in-out\"}\n",
        "\n",
        "::: {.r-stack}\n",
        "::: {data-id=\"box1\" style=\"background: #2780e3; width: 350px; height: 350px; border-radius: 200px;\"}\n",
        "A\n",
        ":::\n",
        "\n",
        "::: {data-id=\"box2\" style=\"background: #3fb618; width: 250px; height: 250px; border-radius: 200px;\"}\n",
        "B\n",
        ":::\n",
        "\n",
        "::: {data-id=\"box3\" style=\"background: #e83e8c; width: 150px; height: 150px; border-radius: 200px;\"}\n",
        "C\n",
        ":::\n",
        ":::"
      ],
      "id": "92baa200"
    }
  ],
  "metadata": {
    "kernelspec": {
      "display_name": "Python 3",
      "language": "python",
      "name": "python3"
    }
  },
  "nbformat": 4,
  "nbformat_minor": 5
}